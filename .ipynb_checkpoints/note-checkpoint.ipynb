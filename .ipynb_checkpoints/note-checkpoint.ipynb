{
 "cells": [
  {
   "cell_type": "code",
   "execution_count": null,
   "id": "dff9df89-5428-49c2-9cb1-7f0910cb8113",
   "metadata": {},
   "outputs": [],
   "source": [
    "## It's note"
   ]
  },
  {
   "cell_type": "code",
   "execution_count": null,
   "id": "521a62fe-0441-4474-87a0-73d1eda61fb9",
   "metadata": {},
   "outputs": [],
   "source": [
    "# Create a graph of df_ym\n",
    "df_ym = df_ymd.groupby([df_ymd.index.year, df_ymd.index.month]).sum()\n",
    "df_ym.index = pd.to_datetime(df_ym.index.map(lambda x: f\"{x[0]}-{x[1]:02d}\"))\n",
    "\n",
    "ax[1].plot(df_ym.index, df_ym['accidents'])\n",
    "ax[1].set_title('month-based sum',fontsize=fontsize, fontweight='semibold')\n",
    "ax[1].set_xlabel('Year', fontsize=fontsize-3, labelpad=10)  # Increase distance from axis\n",
    "ax[1].set_ylabel('Accidents', fontsize=fontsize-3, labelpad=10)\n",
    "ax[1].set_xticks(pd.date_range(start=df_ym.index.min(), end=df_ym.index.max(), freq='YS'))\n",
    "ax[1].xaxis.set_major_formatter(plt.matplotlib.dates.DateFormatter('%Y'))\n",
    "\n",
    "# Create a graph of df_y\n",
    "df_y = df_ymd.groupby([df_ymd.index.year]).sum()\n",
    "df_y.index = pd.to_datetime(df_y.index.map(lambda x: f\"{x}-1-1\"))\n",
    "\n",
    "ax[2].plot(df_y.index, df_y['accidents'])\n",
    "ax[2].set_title('year-based sum',fontsize=fontsize, fontweight='semibold')\n",
    "ax[2].set_xlabel('Year', fontsize=fontsize-3, labelpad=10)  # Increase distance from axis\n",
    "ax[2].set_ylabel('Accidents', fontsize=fontsize-3, labelpad=10)\n",
    "ax[2].set_xticks(pd.date_range(start=df_y.index.min(), end=df_y.index.max(), freq='YS'))\n",
    "ax[2].xaxis.set_major_formatter(plt.matplotlib.dates.DateFormatter('%Y'))\n"
   ]
  },
  {
   "cell_type": "markdown",
   "id": "0c91a022-07bb-4fe1-aba3-ec771a3459d8",
   "metadata": {},
   "source": [
    "## Still making.... plot: Number of Accidents for Light Condition"
   ]
  },
  {
   "cell_type": "code",
   "execution_count": 2,
   "id": "0ca70cd2-57a0-48c4-8a44-07e3d984360f",
   "metadata": {},
   "outputs": [
    {
     "ename": "NameError",
     "evalue": "name 'df' is not defined",
     "output_type": "error",
     "traceback": [
      "\u001b[0;31m---------------------------------------------------------------------------\u001b[0m",
      "\u001b[0;31mNameError\u001b[0m                                 Traceback (most recent call last)",
      "Cell \u001b[0;32mIn[2], line 3\u001b[0m\n\u001b[1;32m      1\u001b[0m \u001b[38;5;66;03m# plot: Number of Accidents for Each Light Condition\u001b[39;00m\n\u001b[0;32m----> 3\u001b[0m lighting_df \u001b[38;5;241m=\u001b[39m \u001b[43mdf\u001b[49m[[\u001b[38;5;124m'\u001b[39m\u001b[38;5;124mlighting\u001b[39m\u001b[38;5;124m'\u001b[39m, \u001b[38;5;124m'\u001b[39m\u001b[38;5;124mtimestamp\u001b[39m\u001b[38;5;124m'\u001b[39m]]\u001b[38;5;241m.\u001b[39mset_index(\u001b[38;5;124m'\u001b[39m\u001b[38;5;124mtimestamp\u001b[39m\u001b[38;5;124m'\u001b[39m)\n\u001b[1;32m      5\u001b[0m l_counts \u001b[38;5;241m=\u001b[39m lighting_df\u001b[38;5;241m.\u001b[39mvalue_counts()\u001b[38;5;241m.\u001b[39mto_frame()\u001b[38;5;241m.\u001b[39msort_values(\u001b[38;5;124m'\u001b[39m\u001b[38;5;124mlighting\u001b[39m\u001b[38;5;124m'\u001b[39m)\n\u001b[1;32m      6\u001b[0m l_counts\u001b[38;5;241m.\u001b[39mindex \u001b[38;5;241m=\u001b[39m list_lighting\n",
      "\u001b[0;31mNameError\u001b[0m: name 'df' is not defined"
     ]
    }
   ],
   "source": [
    "# plot: Number of Accidents for Each Light Condition\n",
    "\n",
    "lighting_df = df[['lighting', 'timestamp']].set_index('timestamp')\n",
    "\n",
    "l_counts = lighting_df.value_counts().to_frame().sort_values('lighting')\n",
    "l_counts.index = list_lighting\n",
    "\n",
    "# Create a graph\n",
    "fig, ax = plt.subplots(figsize=(10, 4))\n",
    "ax.bar(l_counts.index, l_counts['count'])\n",
    "ax.xaxis.set_tick_params(rotation=15)\n",
    "\n",
    "# Adjust label position using labelpad\n",
    "ax.set_title('Number of Accidents for Each Light Condition', position=(0.5,1))\n",
    "ax.set_xlabel('Light Condition', fontsize=15, labelpad=20)  # Increase distance from axis\n",
    "ax.set_ylabel('Accidents', fontsize=15, labelpad=30)\n",
    "\n",
    "plt.close()"
   ]
  },
  {
   "cell_type": "code",
   "execution_count": null,
   "id": "96ba295a-50b7-4117-82f5-e6baa5ae1502",
   "metadata": {},
   "outputs": [],
   "source": [
    "# lag plot\n",
    "lag = 1\n",
    "lagged_values = df_ymd.shift(-lag)\n",
    "\n",
    "\n",
    "lag_df = pd.DataFrame({'Original': df_ymd['accidents'], f'Lagged (lag={lag})': lagged_values['accidents']})\n",
    "\n",
    "# Plot the lag scatter plot\n",
    "plt.scatter(lag_df['Original'], lag_df[f'Lagged (lag={lag})'])\n",
    "plt.xlabel('Original')\n",
    "plt.ylabel(f'Lagged (lag={lag})')\n",
    "plt.title('Lag Scatter Plot');\n",
    "\n",
    "#lag_plot(df_ymd, lag=1);\n",
    "print(lag_df)"
   ]
  }
 ],
 "metadata": {
  "kernelspec": {
   "display_name": "Python 3 (ipykernel)",
   "language": "python",
   "name": "python3"
  },
  "language_info": {
   "codemirror_mode": {
    "name": "ipython",
    "version": 3
   },
   "file_extension": ".py",
   "mimetype": "text/x-python",
   "name": "python",
   "nbconvert_exporter": "python",
   "pygments_lexer": "ipython3",
   "version": "3.9.21"
  }
 },
 "nbformat": 4,
 "nbformat_minor": 5
}
