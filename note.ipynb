{
 "cells": [
  {
   "cell_type": "code",
   "execution_count": null,
   "id": "dff9df89-5428-49c2-9cb1-7f0910cb8113",
   "metadata": {},
   "outputs": [],
   "source": [
    "## It's note"
   ]
  },
  {
   "cell_type": "code",
   "execution_count": null,
   "id": "521a62fe-0441-4474-87a0-73d1eda61fb9",
   "metadata": {},
   "outputs": [],
   "source": [
    "# Create a graph of df_ym\n",
    "df_ym = df_ymd.groupby([df_ymd.index.year, df_ymd.index.month]).sum()\n",
    "df_ym.index = pd.to_datetime(df_ym.index.map(lambda x: f\"{x[0]}-{x[1]:02d}\"))\n",
    "\n",
    "ax[1].plot(df_ym.index, df_ym['accidents'])\n",
    "ax[1].set_title('month-based sum',fontsize=fontsize, fontweight='semibold')\n",
    "ax[1].set_xlabel('Year', fontsize=fontsize-3, labelpad=10)  # Increase distance from axis\n",
    "ax[1].set_ylabel('Accidents', fontsize=fontsize-3, labelpad=10)\n",
    "ax[1].set_xticks(pd.date_range(start=df_ym.index.min(), end=df_ym.index.max(), freq='YS'))\n",
    "ax[1].xaxis.set_major_formatter(plt.matplotlib.dates.DateFormatter('%Y'))\n",
    "\n",
    "# Create a graph of df_y\n",
    "df_y = df_ymd.groupby([df_ymd.index.year]).sum()\n",
    "df_y.index = pd.to_datetime(df_y.index.map(lambda x: f\"{x}-1-1\"))\n",
    "\n",
    "ax[2].plot(df_y.index, df_y['accidents'])\n",
    "ax[2].set_title('year-based sum',fontsize=fontsize, fontweight='semibold')\n",
    "ax[2].set_xlabel('Year', fontsize=fontsize-3, labelpad=10)  # Increase distance from axis\n",
    "ax[2].set_ylabel('Accidents', fontsize=fontsize-3, labelpad=10)\n",
    "ax[2].set_xticks(pd.date_range(start=df_y.index.min(), end=df_y.index.max(), freq='YS'))\n",
    "ax[2].xaxis.set_major_formatter(plt.matplotlib.dates.DateFormatter('%Y'))\n"
   ]
  },
  {
   "cell_type": "markdown",
   "id": "0c91a022-07bb-4fe1-aba3-ec771a3459d8",
   "metadata": {},
   "source": [
    "## Still making.... plot: Number of Accidents for Light Condition"
   ]
  },
  {
   "cell_type": "code",
   "execution_count": 2,
   "id": "0ca70cd2-57a0-48c4-8a44-07e3d984360f",
   "metadata": {},
   "outputs": [
    {
     "ename": "NameError",
     "evalue": "name 'df' is not defined",
     "output_type": "error",
     "traceback": [
      "\u001b[0;31m---------------------------------------------------------------------------\u001b[0m",
      "\u001b[0;31mNameError\u001b[0m                                 Traceback (most recent call last)",
      "Cell \u001b[0;32mIn[2], line 3\u001b[0m\n\u001b[1;32m      1\u001b[0m \u001b[38;5;66;03m# plot: Number of Accidents for Each Light Condition\u001b[39;00m\n\u001b[0;32m----> 3\u001b[0m lighting_df \u001b[38;5;241m=\u001b[39m \u001b[43mdf\u001b[49m[[\u001b[38;5;124m'\u001b[39m\u001b[38;5;124mlighting\u001b[39m\u001b[38;5;124m'\u001b[39m, \u001b[38;5;124m'\u001b[39m\u001b[38;5;124mtimestamp\u001b[39m\u001b[38;5;124m'\u001b[39m]]\u001b[38;5;241m.\u001b[39mset_index(\u001b[38;5;124m'\u001b[39m\u001b[38;5;124mtimestamp\u001b[39m\u001b[38;5;124m'\u001b[39m)\n\u001b[1;32m      5\u001b[0m l_counts \u001b[38;5;241m=\u001b[39m lighting_df\u001b[38;5;241m.\u001b[39mvalue_counts()\u001b[38;5;241m.\u001b[39mto_frame()\u001b[38;5;241m.\u001b[39msort_values(\u001b[38;5;124m'\u001b[39m\u001b[38;5;124mlighting\u001b[39m\u001b[38;5;124m'\u001b[39m)\n\u001b[1;32m      6\u001b[0m l_counts\u001b[38;5;241m.\u001b[39mindex \u001b[38;5;241m=\u001b[39m list_lighting\n",
      "\u001b[0;31mNameError\u001b[0m: name 'df' is not defined"
     ]
    }
   ],
   "source": [
    "# plot: Number of Accidents for Each Light Condition\n",
    "\n",
    "lighting_df = df[['lighting', 'timestamp']].set_index('timestamp')\n",
    "\n",
    "l_counts = lighting_df.value_counts().to_frame().sort_values('lighting')\n",
    "l_counts.index = list_lighting\n",
    "\n",
    "# Create a graph\n",
    "fig, ax = plt.subplots(figsize=(10, 4))\n",
    "ax.bar(l_counts.index, l_counts['count'])\n",
    "ax.xaxis.set_tick_params(rotation=15)\n",
    "\n",
    "# Adjust label position using labelpad\n",
    "ax.set_title('Number of Accidents for Each Light Condition', position=(0.5,1))\n",
    "ax.set_xlabel('Light Condition', fontsize=15, labelpad=20)  # Increase distance from axis\n",
    "ax.set_ylabel('Accidents', fontsize=15, labelpad=30)\n",
    "\n",
    "plt.close()"
   ]
  },
  {
   "cell_type": "code",
   "execution_count": null,
   "id": "96ba295a-50b7-4117-82f5-e6baa5ae1502",
   "metadata": {},
   "outputs": [],
   "source": [
    "# lag plot\n",
    "lag = 1\n",
    "lagged_values = df_ymd.shift(-lag)\n",
    "\n",
    "\n",
    "lag_df = pd.DataFrame({'Original': df_ymd['accidents'], f'Lagged (lag={lag})': lagged_values['accidents']})\n",
    "\n",
    "# Plot the lag scatter plot\n",
    "plt.scatter(lag_df['Original'], lag_df[f'Lagged (lag={lag})'])\n",
    "plt.xlabel('Original')\n",
    "plt.ylabel(f'Lagged (lag={lag})')\n",
    "plt.title('Lag Scatter Plot');\n",
    "\n",
    "#lag_plot(df_ymd, lag=1);\n",
    "print(lag_df)"
   ]
  },
  {
   "cell_type": "code",
   "execution_count": null,
   "id": "76f327e7-9f81-4300-8a5e-7188202efc0f",
   "metadata": {},
   "outputs": [],
   "source": [
    "def ym_var_plt(yearly,monthly,title,condition_list):\n",
    "    fig, ax = plt.subplots(5,2,figsize=(20, 20), layout='constrained')\n",
    "    fs = 15\n",
    "    lp  = 10\n",
    "    colors = plt.get_cmap('Set2').colors\n",
    "    \n",
    "    fig.suptitle(title, fontsize=fs, fontweight='bold')\n",
    "    \n",
    "    for i,cnd in enumerate(condition_list):\n",
    "    \n",
    "        ax[i][0].plot(monthly.index, monthly[cnd], marker='o', color=colors[i])\n",
    "        ax[i][0].set_xlabel('Month', fontsize=fs-3, labelpad=lp)\n",
    "        ax[i][0].set_ylabel(cnd.capitalize(), fontsize=fs-3, labelpad=lp)\n",
    "        ax[i][0].set_xticks(pd.date_range(start=df_copy.index.min(), end=df_copy.index.max(), freq='YS'))\n",
    "        ax[i][0].xaxis.set_major_formatter(plt.matplotlib.dates.DateFormatter('%Y'))\n",
    "        \n",
    "        ax[i][1].plot(yearly.index, yearly[cnd], marker='o', color=colors[i])\n",
    "        ax[i][1].set_xlabel('Year', fontsize=fs-3, labelpad=lp)\n",
    "        ax[i][1].set_ylabel(cnd.capitalize(), fontsize=fs-3, labelpad=lp)\n",
    "        ax[i][1].set_xticks(pd.date_range(start=df_copy.index.min(), end=df_copy.index.max(), freq='YS'))\n",
    "        ax[i][1].xaxis.set_major_formatter(plt.matplotlib.dates.DateFormatter('%Y'))"
   ]
  },
  {
   "cell_type": "code",
   "execution_count": 1,
   "id": "c0b371a0-177a-43f8-b7c3-f4df3865599f",
   "metadata": {},
   "outputs": [],
   "source": [
    "### Classical Decomposition and STL Decomposition for Each Aggregation Method for Each Variable "
   ]
  },
  {
   "cell_type": "code",
   "execution_count": null,
   "id": "256cec41-5779-45d4-b800-3d521ccfd1c4",
   "metadata": {},
   "outputs": [],
   "source": [
    "### CNN Architecture\n",
    "### RNN Architecture"
   ]
  },
  {
   "cell_type": "code",
   "execution_count": null,
   "id": "ffda8f66-7a57-490b-af85-43fc3a9b36aa",
   "metadata": {},
   "outputs": [],
   "source": [
    "### simple MLP"
   ]
  },
  {
   "cell_type": "code",
   "execution_count": null,
   "id": "94f42d24-dd99-45f0-aa3e-0a7bb4b7641b",
   "metadata": {},
   "outputs": [],
   "source": [
    "df_ymd = df_time.groupby([df_time.index.year, df_time.index.month,df_time.index.day]).size()\n",
    "df_ymd.name = \"accidents\"\n",
    "df_ymd = df_ymd.to_frame()\n",
    "df_ymd.index = pd.to_datetime(df_ymd.index.map(lambda x: f\"{x[0]}-{x[1]:02d}-{x[2]:02d}\"))\n",
    "\n",
    "\n",
    "df_ym = df_ymd.groupby([df_ymd.index.year, df_ymd.index.month]).sum()\n",
    "df_ym.index = pd.to_datetime(df_ym.index.map(lambda x: f\"{x[0]}-{x[1]:02d}\"))\n",
    "\n",
    "\n",
    "n_steps = 12\n",
    "X, y = split_sequence(df_ym[\"accidents\"].values, n_steps)\n",
    "\n",
    "\n",
    "X_train, X_temp, y_train, y_temp = train_test_split(\n",
    "    X, y, test_size=0.4, random_state=42\n",
    ")\n",
    "\n",
    "X_val, X_test, y_val, y_test = train_test_split(\n",
    "    X_temp, y_temp, test_size=0.5, random_state=42\n",
    ")\n",
    "\n",
    "model = Sequential()\n",
    "model.add(Input(shape=(n_steps,)))\n",
    "model.add(Dense(100, activation='relu'))\n",
    "model.add(Dense(1))\n",
    "model.compile(optimizer='adam', loss='mse')\n",
    "\n",
    "history_1 = model.fit(X_train, y_train, epochs=50, verbose=0, validation_data=(X_val, y_val))\n",
    "\n",
    "loss = model.evaluate(X_test, y_test)\n",
    "print(\"-------------------\")\n",
    "print(\"Test loss:\", loss)\n",
    "print(\"-------------------\")\n",
    "\n",
    "\n",
    "plt.figure(figsize=(10, 5))\n",
    "plt.plot(history_1.history['loss'])\n",
    "plt.plot(history_1.history['val_loss'])\n",
    "plt.title('Model loss')\n",
    "plt.ylabel('Loss')\n",
    "plt.xlabel('Epoch')\n",
    "plt.legend(['Train', 'Validation'], loc='upper right')\n",
    "plt.show()\n",
    "\n",
    "y_train_pred = model.predict(X_train)\n",
    "y_val_pred = model.predict(X_val)\n",
    "y_test_pred = model.predict(X_test)\n",
    "\n",
    "plt.figure(figsize=(15, 5))\n",
    "\n",
    "plt.subplot(1, 3, 1)\n",
    "plt.plot(y_train, label='Actual')\n",
    "plt.plot(y_train_pred, label='Predicted')\n",
    "plt.title('Training Set')\n",
    "plt.xlabel('Samples')\n",
    "plt.ylabel('Values')\n",
    "plt.legend()\n",
    "\n",
    "plt.subplot(1, 3, 2)\n",
    "plt.plot(y_val, label='Actual')\n",
    "plt.plot(y_val_pred, label='Predicted')\n",
    "plt.title('Validation Set')\n",
    "plt.xlabel('Samples')\n",
    "plt.ylabel('Values')\n",
    "plt.legend()\n",
    "\n",
    "plt.subplot(1, 3, 3)\n",
    "plt.plot(y_test, label='Actual')\n",
    "plt.plot(y_test_pred, label='Predicted')\n",
    "plt.title('Test Set')\n",
    "plt.xlabel('Samples')\n",
    "plt.ylabel('Values')\n",
    "plt.legend()\n",
    "\n",
    "plt.tight_layout()\n",
    "plt.show()\n",
    "\n",
    "\n",
    "print(\"--------------------------------------------\")\n",
    "  \n",
    "print(f\"RMSE: {np.sqrt(mean_squared_error(y_test, y_test_pred)),}\")\n",
    "print(f\"MAE : {mean_absolute_error(y_test, y_test_pred),}\")\n",
    "print(f\"MAPE: {mean_absolute_percentage_error(y_test, y_test_pred),}\")\n",
    "print(\"--------------------------------------------\")\n"
   ]
  },
  {
   "cell_type": "code",
   "execution_count": null,
   "id": "1d63e546-9f51-413a-bd35-d27526f7faac",
   "metadata": {},
   "outputs": [],
   "source": [
    "data = np.array([\n",
    "  [10, 15],\n",
    "  [20, 25],\n",
    "  [30, 35],\n",
    "  [40, 45],\n",
    "  [50, 55],\n",
    "  [60, 65],\n",
    "  [70, 75],\n",
    "  [80, 85],\n",
    "  [90, 95],\n",
    "])\n",
    "\n",
    "X, y = split_sequences(data,\n",
    "                       n_steps_in=3,\n",
    "                       n_steps_out=3,\n",
    "                       stride=2,\n",
    "                       x_features=[0],\n",
    "                       y_features=[1],\n",
    "                       y_offset=0)\n",
    "print(X)\n",
    "print(\"-------------\")\n",
    "print(y)"
   ]
  },
  {
   "cell_type": "code",
   "execution_count": null,
   "id": "a60da292-f63a-4d72-a6dc-e1210b8106ab",
   "metadata": {},
   "outputs": [],
   "source": [
    "# Current Summary (changes later)\n",
    "## The best model for predicting the number of accidents 5 years ahead is **Seasonal ARIMA**\n",
    "\n",
    "## The best influential variable is **collision_type**"
   ]
  }
 ],
 "metadata": {
  "kernelspec": {
   "display_name": "Python 3 (ipykernel)",
   "language": "python",
   "name": "python3"
  },
  "language_info": {
   "codemirror_mode": {
    "name": "ipython",
    "version": 3
   },
   "file_extension": ".py",
   "mimetype": "text/x-python",
   "name": "python",
   "nbconvert_exporter": "python",
   "pygments_lexer": "ipython3",
   "version": "3.9.21"
  }
 },
 "nbformat": 4,
 "nbformat_minor": 5
}
